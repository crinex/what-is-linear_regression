{
  "nbformat": 4,
  "nbformat_minor": 0,
  "metadata": {
    "colab": {
      "name": "Linear_Regression.ipynb",
      "provenance": [],
      "authorship_tag": "ABX9TyNke2zJnelsEHeW4Q3Y5p9g",
      "include_colab_link": true
    },
    "kernelspec": {
      "name": "python3",
      "display_name": "Python 3"
    }
  },
  "cells": [
    {
      "cell_type": "markdown",
      "metadata": {
        "id": "view-in-github",
        "colab_type": "text"
      },
      "source": [
        "<a href=\"https://colab.research.google.com/github/crinex/what-is-linear_regression/blob/main/Linear_Regression.ipynb\" target=\"_parent\"><img src=\"https://colab.research.google.com/assets/colab-badge.svg\" alt=\"Open In Colab\"/></a>"
      ]
    },
    {
      "cell_type": "markdown",
      "metadata": {
        "id": "RmVIpXHxXTlO"
      },
      "source": [
        "## 선형회귀"
      ]
    },
    {
      "cell_type": "markdown",
      "metadata": {
        "id": "yMJTvynpXXed"
      },
      "source": [
        "### Data Collection"
      ]
    },
    {
      "cell_type": "code",
      "metadata": {
        "id": "Goi7nHIKWvGK"
      },
      "source": [
        "from keras.utils import get_file\n",
        "\n",
        "import numpy as np\n",
        "import pandas as pd"
      ],
      "execution_count": 3,
      "outputs": []
    },
    {
      "cell_type": "code",
      "metadata": {
        "colab": {
          "base_uri": "https://localhost:8080/"
        },
        "id": "H9aLsGAWXczA",
        "outputId": "72588abe-1db2-4db7-a8a8-de2b04192172"
      },
      "source": [
        "fname = 'momjjangban_data.csv'\n",
        "origin = 'https://skettee.github.io/post/linear_regression/momjjangban_data.csv'\n",
        "path = get_file(fname, origin)"
      ],
      "execution_count": 2,
      "outputs": [
        {
          "output_type": "stream",
          "text": [
            "Downloading data from https://skettee.github.io/post/linear_regression/momjjangban_data.csv\n",
            "\r8192/813 [==============================================================================================================================================================================================================================================================================================================] - 0s 0us/step\n"
          ],
          "name": "stdout"
        }
      ]
    },
    {
      "cell_type": "code",
      "metadata": {
        "colab": {
          "base_uri": "https://localhost:8080/",
          "height": 204
        },
        "id": "wNKWcF1pXhn_",
        "outputId": "a90f9f6b-917e-4eb4-fbb4-c175788807f9"
      },
      "source": [
        "df = pd.read_csv(path, index_col=0)\n",
        "df.head()"
      ],
      "execution_count": 5,
      "outputs": [
        {
          "output_type": "execute_result",
          "data": {
            "text/html": [
              "<div>\n",
              "<style scoped>\n",
              "    .dataframe tbody tr th:only-of-type {\n",
              "        vertical-align: middle;\n",
              "    }\n",
              "\n",
              "    .dataframe tbody tr th {\n",
              "        vertical-align: top;\n",
              "    }\n",
              "\n",
              "    .dataframe thead th {\n",
              "        text-align: right;\n",
              "    }\n",
              "</style>\n",
              "<table border=\"1\" class=\"dataframe\">\n",
              "  <thead>\n",
              "    <tr style=\"text-align: right;\">\n",
              "      <th></th>\n",
              "      <th>height</th>\n",
              "      <th>weight</th>\n",
              "    </tr>\n",
              "  </thead>\n",
              "  <tbody>\n",
              "    <tr>\n",
              "      <th>0</th>\n",
              "      <td>158.9</td>\n",
              "      <td>52.015</td>\n",
              "    </tr>\n",
              "    <tr>\n",
              "      <th>1</th>\n",
              "      <td>173.6</td>\n",
              "      <td>66.910</td>\n",
              "    </tr>\n",
              "    <tr>\n",
              "      <th>2</th>\n",
              "      <td>174.4</td>\n",
              "      <td>66.000</td>\n",
              "    </tr>\n",
              "    <tr>\n",
              "      <th>3</th>\n",
              "      <td>169.2</td>\n",
              "      <td>NaN</td>\n",
              "    </tr>\n",
              "    <tr>\n",
              "      <th>4</th>\n",
              "      <td>154.0</td>\n",
              "      <td>49.275</td>\n",
              "    </tr>\n",
              "  </tbody>\n",
              "</table>\n",
              "</div>"
            ],
            "text/plain": [
              "   height  weight\n",
              "0   158.9  52.015\n",
              "1   173.6  66.910\n",
              "2   174.4  66.000\n",
              "3   169.2     NaN\n",
              "4   154.0  49.275"
            ]
          },
          "metadata": {
            "tags": []
          },
          "execution_count": 5
        }
      ]
    },
    {
      "cell_type": "markdown",
      "metadata": {
        "id": "8pBmWs2ladsF"
      },
      "source": [
        "###Data Cleansing"
      ]
    },
    {
      "cell_type": "code",
      "metadata": {
        "colab": {
          "base_uri": "https://localhost:8080/"
        },
        "id": "Ed6WRfcfXqID",
        "outputId": "91e1daae-a876-466d-8a06-a4fc78986083"
      },
      "source": [
        "print(df.isnull().sum())\n",
        "print(df.isna().sum())"
      ],
      "execution_count": 9,
      "outputs": [
        {
          "output_type": "stream",
          "text": [
            "height    1\n",
            "weight    1\n",
            "dtype: int64\n",
            "height    1\n",
            "weight    1\n",
            "dtype: int64\n"
          ],
          "name": "stdout"
        }
      ]
    },
    {
      "cell_type": "code",
      "metadata": {
        "colab": {
          "base_uri": "https://localhost:8080/"
        },
        "id": "IwLwaijhXzyL",
        "outputId": "15ffeb27-1fec-4c21-fc4e-07fbabdfbd41"
      },
      "source": [
        "df.shape"
      ],
      "execution_count": 10,
      "outputs": [
        {
          "output_type": "execute_result",
          "data": {
            "text/plain": [
              "(52, 2)"
            ]
          },
          "metadata": {
            "tags": []
          },
          "execution_count": 10
        }
      ]
    },
    {
      "cell_type": "code",
      "metadata": {
        "colab": {
          "base_uri": "https://localhost:8080/"
        },
        "id": "8tl4KhYcX3J6",
        "outputId": "bde69475-f12c-46a7-e754-6848cafa6d93"
      },
      "source": [
        "# axis=0 : 결측값있는 행 제거\n",
        "# axis=1 : 결측값있는 열 제거\n",
        "# reset_index : 행 인덱스 초기화\n",
        "# drop=True : 기존 인덱스를 삭제후 재배열\n",
        "# inplace=True : 새로운 변수에 재생성하지 않고 바로 재배열\n",
        "df = df.dropna(axis=0).reset_index(drop=True)\n",
        "df.shape"
      ],
      "execution_count": 13,
      "outputs": [
        {
          "output_type": "execute_result",
          "data": {
            "text/plain": [
              "(50, 2)"
            ]
          },
          "metadata": {
            "tags": []
          },
          "execution_count": 13
        }
      ]
    },
    {
      "cell_type": "code",
      "metadata": {
        "colab": {
          "base_uri": "https://localhost:8080/"
        },
        "id": "zwVDMPbvaGZ7",
        "outputId": "c113d367-ef1a-47dd-9cc5-af9ce8bb1b71"
      },
      "source": [
        "height_data = df.height\n",
        "weight_data = df.weight\n",
        "print(height_data.shape)\n",
        "print(weight_data.shape)"
      ],
      "execution_count": 14,
      "outputs": [
        {
          "output_type": "stream",
          "text": [
            "(50,)\n",
            "(50,)\n"
          ],
          "name": "stdout"
        }
      ]
    },
    {
      "cell_type": "markdown",
      "metadata": {
        "id": "WiCcg3zraaRr"
      },
      "source": [
        "### Data Analysis"
      ]
    },
    {
      "cell_type": "code",
      "metadata": {
        "id": "6z4nRsOAaYfK"
      },
      "source": [
        "import matplotlib.pyplot as plt"
      ],
      "execution_count": 15,
      "outputs": []
    },
    {
      "cell_type": "code",
      "metadata": {
        "colab": {
          "base_uri": "https://localhost:8080/",
          "height": 279
        },
        "id": "b92wqUVhakvU",
        "outputId": "7a7a0891-742e-4742-b634-e02778fd7b2b"
      },
      "source": [
        "plt.scatter(height_data, weight_data)\n",
        "plt.xlabel('height (cm)')\n",
        "plt.ylabel('weight (kg)')\n",
        "plt.show()"
      ],
      "execution_count": 16,
      "outputs": [
        {
          "output_type": "display_data",
          "data": {
            "image/png": "[encoded data removed]",
            "text/plain": [
              "<Figure size 432x288 with 1 Axes>"
            ]
          },
          "metadata": {
            "tags": [],
            "needs_background": "light"
          }
        }
      ]
    },
    {
      "cell_type": "markdown",
      "metadata": {
        "id": "6BMWT0zSbTiT"
      },
      "source": [
        "### Data Transformation\n",
        "- 행의 크기 : 데이터의 개수\n",
        "- 열의 크기 : 측정 항목의 개수\n",
        "- 키 값을 입력했을때 몸짱반에 들어갈 수 있는 몸무게를 알고 싶은것이니 키 데이터를 입력 데이터 x, 몸무게 데이터를 출력 데이터 y라 한다."
      ]
    },
    {
      "cell_type": "code",
      "metadata": {
        "colab": {
          "base_uri": "https://localhost:8080/"
        },
        "id": "ow92_shCaxVk",
        "outputId": "103f5344-cfc9-4857-c2e9-13bea151c9fb"
      },
      "source": [
        "x = np.array(height_data).reshape(len(height_data), 1)\n",
        "y = np.array(weight_data).reshape(len(weight_data), 1)\n",
        "\n",
        "print('x =', x[:10])\n",
        "print('x.shape =', x.shape)\n",
        "print('y =', y[:10])\n",
        "print('y.shape = ', y.shape)"
      ],
      "execution_count": 18,
      "outputs": [
        {
          "output_type": "stream",
          "text": [
            "x = [[158.9]\n",
            " [173.6]\n",
            " [174.4]\n",
            " [154. ]\n",
            " [177.7]\n",
            " [188.3]\n",
            " [183.4]\n",
            " [168.7]\n",
            " [185.1]\n",
            " [156.5]]\n",
            "x.shape = (50, 1)\n",
            "y = [[52.015]\n",
            " [66.91 ]\n",
            " [66.   ]\n",
            " [49.275]\n",
            " [69.82 ]\n",
            " [79.479]\n",
            " [75.685]\n",
            " [61.569]\n",
            " [76.346]\n",
            " [51.694]]\n",
            "y.shape =  (50, 1)\n"
          ],
          "name": "stdout"
        }
      ]
    },
    {
      "cell_type": "markdown",
      "metadata": {
        "id": "tEIwtQOEcpe-"
      },
      "source": [
        "### Linear Regression Modeling\n",
        "- 모델을 y = wx + b인 선형식으로 놓고 주어진 데이터에 가장 비슷한 직선을 표현하는 w와 b를 찾는것이다.\n",
        "- w, b를 가중치와 편향이라 하고 모델의 파라미터라 부른다."
      ]
    },
    {
      "cell_type": "markdown",
      "metadata": {
        "id": "KcO0fKhNh14X"
      },
      "source": [
        "### Loss Function\n",
        "- 선형 모델에 x값을 넣어 출력한 y값과 실제 y값과의 차이를 오차라하고 그 값의 제곱을 한 값인 제곱오차의 평균을 손실함수로 사용한다.\n",
        "- 그러면 우리는 손실함수가 최솟값을 갖을때를 찾으면 된다. 그 순간이 오차가 가장 적은 순간일 것이다. 그러기 위해 경사하강법이라는 방법을 사용한다.\n",
        "- 경사하강법은 함수 값이 작아지는 방향으로 독립 변수 값들을 움직이면서 변화율을 관찰한다."
      ]
    },
    {
      "cell_type": "markdown",
      "metadata": {
        "id": "g9TNUKRzm7Fn"
      },
      "source": [
        "### 정리\n",
        "1. y(예측값) = wx + b 함수 정의\n",
        "2. 손실함수 정의(MSE)\n",
        "3. 손실함수의 최소값을 찾는 방법 선택(GD). 최소값을 찾는 방법을 옵티마이저라고 부른다.\n",
        "4. 반복할 횟수 지정(epoch)\n",
        "5. 주어진 조건으로 모델을 최적화(fit)"
      ]
    },
    {
      "cell_type": "markdown",
      "metadata": {
        "id": "Ue5FnBRAnnEA"
      },
      "source": [
        "### 정규화(Normalization)\n",
        "- 데이터를 0~1사이로 만들어준다.\n",
        "- 정규값 = (현재값 - 최소값) / (최댓값 - 최소값)"
      ]
    },
    {
      "cell_type": "code",
      "metadata": {
        "id": "q0wfRvZScexT"
      },
      "source": [
        "from sklearn import preprocessing"
      ],
      "execution_count": 19,
      "outputs": []
    },
    {
      "cell_type": "code",
      "metadata": {
        "id": "k4mMY1Vkn9r-"
      },
      "source": [
        "sc = preprocessing.MinMaxScaler()\n",
        "X_train = sc.fit_transform(x)\n",
        "y_train = sc.transform(y)"
      ],
      "execution_count": 20,
      "outputs": []
    },
    {
      "cell_type": "code",
      "metadata": {
        "colab": {
          "base_uri": "https://localhost:8080/",
          "height": 279
        },
        "id": "JzT588KZoN3w",
        "outputId": "aad047d9-2057-4435-ec41-5df24467d63d"
      },
      "source": [
        "plt.scatter(X_train, y_train)\n",
        "plt.xlabel('Height')\n",
        "plt.ylabel('Weight')\n",
        "plt.show()"
      ],
      "execution_count": 21,
      "outputs": [
        {
          "output_type": "display_data",
          "data": {
            "image/png": "[encoded data removed]",
            "text/plain": [
              "<Figure size 432x288 with 1 Axes>"
            ]
          },
          "metadata": {
            "tags": [],
            "needs_background": "light"
          }
        }
      ]
    },
    {
      "cell_type": "markdown",
      "metadata": {
        "id": "EgERq72PoXiK"
      },
      "source": [
        "## Modeling"
      ]
    },
    {
      "cell_type": "code",
      "metadata": {
        "id": "PcLVJwlGoUTs"
      },
      "source": [
        "from keras import Sequential\n",
        "from keras.layers import Dense"
      ],
      "execution_count": 22,
      "outputs": []
    },
    {
      "cell_type": "code",
      "metadata": {
        "id": "Vk2d_4HCof0o"
      },
      "source": [
        "# 모델 준비\n",
        "model = Sequential()\n",
        "\n",
        "# 입력변수 개수 1개, 출력변수 개수 1개인 선형모델 생성\n",
        "model.add(Dense(1, input_dim=1))\n",
        "\n",
        "# Loss function, Optimizer 선택\n",
        "model.compile(\n",
        "    loss='mean_squared_error',\n",
        "    optimizer='sgd',\n",
        "    metrics=['accuracy']\n",
        ")\n",
        "\n",
        "# epoch만큼 반복해서 손실값을 최소가 되도록 모델 훈련\n",
        "hist = model.fit(X_train, y_train, epochs=3000, verbose=0)"
      ],
      "execution_count": 35,
      "outputs": []
    },
    {
      "cell_type": "markdown",
      "metadata": {
        "id": "RxoAhEWrp44X"
      },
      "source": [
        "### 손실값의 변화 그래프로 확인"
      ]
    },
    {
      "cell_type": "code",
      "metadata": {
        "colab": {
          "base_uri": "https://localhost:8080/",
          "height": 279
        },
        "id": "Czp4ocfNppi6",
        "outputId": "4b9f6521-e37c-40f2-9dad-aef350dfd236"
      },
      "source": [
        "plt.plot(hist.history['loss'])\n",
        "plt.xlabel('Epochs')\n",
        "plt.ylabel('Loss')\n",
        "plt.show()"
      ],
      "execution_count": 24,
      "outputs": [
        {
          "output_type": "display_data",
          "data": {
            "image/png": "[encoded data removed]",
            "text/plain": [
              "<Figure size 432x288 with 1 Axes>"
            ]
          },
          "metadata": {
            "tags": [],
            "needs_background": "light"
          }
        }
      ]
    },
    {
      "cell_type": "markdown",
      "metadata": {
        "id": "tfUIKaoup9cJ"
      },
      "source": [
        "### w, b 값 확인"
      ]
    },
    {
      "cell_type": "code",
      "metadata": {
        "colab": {
          "base_uri": "https://localhost:8080/"
        },
        "id": "RUTATt4Ep1Up",
        "outputId": "757940b1-e474-436d-db37-81329214d700"
      },
      "source": [
        "w, b = model.get_weights()\n",
        "w = w[0][0]\n",
        "b = b[0]\n",
        "print('가중치 :', w)\n",
        "print('편향 :', b)"
      ],
      "execution_count": 28,
      "outputs": [
        {
          "output_type": "stream",
          "text": [
            "가중치 : 0.8989577\n",
            "편향 : -2.6254747\n"
          ],
          "name": "stdout"
        }
      ]
    },
    {
      "cell_type": "markdown",
      "metadata": {
        "id": "BObn2cNbqcR3"
      },
      "source": [
        "### 그래프로 확인"
      ]
    },
    {
      "cell_type": "code",
      "metadata": {
        "colab": {
          "base_uri": "https://localhost:8080/",
          "height": 279
        },
        "id": "AfOSCAuWqJy7",
        "outputId": "e26f4c47-98ee-4d8b-f032-335b67a9cc13"
      },
      "source": [
        "x_scale = sc.transform(x)\n",
        "y_scale = sc.transform(y)\n",
        "plt.scatter(x_scale, y_scale)\n",
        "plt.plot(x_scale, w*x_scale+b, 'r--')\n",
        "plt.xlabel('scaled-height')\n",
        "plt.ylabel('scaled-weight')\n",
        "plt.show()"
      ],
      "execution_count": 31,
      "outputs": [
        {
          "output_type": "display_data",
          "data": {
            "image/png": "[encoded data removed]",
            "text/plain": [
              "<Figure size 432x288 with 1 Axes>"
            ]
          },
          "metadata": {
            "tags": [],
            "needs_background": "light"
          }
        }
      ]
    },
    {
      "cell_type": "markdown",
      "metadata": {
        "id": "5a5d_Nx7u-Vt"
      },
      "source": [
        "### 예측해보기"
      ]
    },
    {
      "cell_type": "code",
      "metadata": {
        "colab": {
          "base_uri": "https://localhost:8080/"
        },
        "id": "Ql9sk_9UqMWe",
        "outputId": "9d99467e-e099-410b-8fe8-e9b5c555dc5b"
      },
      "source": [
        "input_data = 178.5\n",
        "\n",
        "# reshape(-1, 1) : 1개의 열로 재배열\n",
        "input_x = sc.transform(np.array([input_data]).reshape(-1,1))\n",
        "predict = model.predict(input_x)\n",
        "predict = sc.inverse_transform(predict)\n",
        "\n",
        "print('몸짱반에 들어갈 수 있는 몸무게는 {:.2f} kg 입니다.'.format(predict[0][0]))"
      ],
      "execution_count": 36,
      "outputs": [
        {
          "output_type": "stream",
          "text": [
            "몸짱반에 들어갈 수 있는 몸무게는 70.60 kg 입니다.\n"
          ],
          "name": "stdout"
        }
      ]
    },
    {
      "cell_type": "code",
      "metadata": {
        "id": "AHzpvyFXvdo2"
      },
      "source": [
        ""
      ],
      "execution_count": null,
      "outputs": []
    }
  ]
}